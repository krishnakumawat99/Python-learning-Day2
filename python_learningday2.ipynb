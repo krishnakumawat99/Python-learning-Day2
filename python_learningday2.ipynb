{
  "nbformat": 4,
  "nbformat_minor": 0,
  "metadata": {
    "colab": {
      "provenance": []
    },
    "kernelspec": {
      "name": "python3",
      "display_name": "Python 3"
    },
    "language_info": {
      "name": "python"
    }
  },
  "cells": [
    {
      "cell_type": "code",
      "execution_count": null,
      "metadata": {
        "id": "eOF0__Z3mHUz"
      },
      "outputs": [],
      "source": [
        "# arithmetic\n",
        "# comparison\n",
        "# assignment\n",
        "# today logical operator"
      ]
    },
    {
      "cell_type": "code",
      "source": [
        "x=10\n",
        "x>=10 and x>5\n",
        "# and => true when all condition are true"
      ],
      "metadata": {
        "colab": {
          "base_uri": "https://localhost:8080/"
        },
        "id": "BNGokaffte5n",
        "outputId": "b9e7be56-9a08-4bc9-9661-3e8508bbc579"
      },
      "execution_count": null,
      "outputs": [
        {
          "output_type": "execute_result",
          "data": {
            "text/plain": [
              "True"
            ]
          },
          "metadata": {},
          "execution_count": 2
        }
      ]
    },
    {
      "cell_type": "code",
      "source": [
        "x=10\n",
        "x>=40 or x>50\n",
        "# or => true=> when any condition are true"
      ],
      "metadata": {
        "colab": {
          "base_uri": "https://localhost:8080/"
        },
        "id": "UaM0cQm5tlpT",
        "outputId": "06f72344-cf0a-4556-b8c1-c9c0f6569741"
      },
      "execution_count": null,
      "outputs": [
        {
          "output_type": "execute_result",
          "data": {
            "text/plain": [
              "False"
            ]
          },
          "metadata": {},
          "execution_count": 6
        }
      ]
    },
    {
      "cell_type": "code",
      "source": [
        "# membership operator\n",
        "\"a\" in \"krishna\""
      ],
      "metadata": {
        "colab": {
          "base_uri": "https://localhost:8080/"
        },
        "id": "QRHwhl25tz7i",
        "outputId": "327307ee-3e16-499f-db8a-ecbb65895565"
      },
      "execution_count": null,
      "outputs": [
        {
          "output_type": "execute_result",
          "data": {
            "text/plain": [
              "True"
            ]
          },
          "metadata": {},
          "execution_count": 7
        }
      ]
    },
    {
      "cell_type": "code",
      "source": [
        "\"A\" in \"krishna\""
      ],
      "metadata": {
        "colab": {
          "base_uri": "https://localhost:8080/"
        },
        "id": "h8MC2pw-usDR",
        "outputId": "26f51b70-823d-4a8e-c4e7-b41e64cfff9e"
      },
      "execution_count": null,
      "outputs": [
        {
          "output_type": "execute_result",
          "data": {
            "text/plain": [
              "False"
            ]
          },
          "metadata": {},
          "execution_count": 9
        }
      ]
    },
    {
      "cell_type": "code",
      "source": [
        "\"A\" not in \"krishna\""
      ],
      "metadata": {
        "colab": {
          "base_uri": "https://localhost:8080/"
        },
        "id": "pEX3texEu0Za",
        "outputId": "c1b6e732-a104-475e-9bb0-8ddf561d23e2"
      },
      "execution_count": null,
      "outputs": [
        {
          "output_type": "execute_result",
          "data": {
            "text/plain": [
              "True"
            ]
          },
          "metadata": {},
          "execution_count": 10
        }
      ]
    },
    {
      "cell_type": "code",
      "source": [
        "\"z\" not in \"krishna\""
      ],
      "metadata": {
        "colab": {
          "base_uri": "https://localhost:8080/"
        },
        "id": "9PrGR8tHu_oF",
        "outputId": "92b43b1a-5908-493d-a921-282e15409406"
      },
      "execution_count": null,
      "outputs": [
        {
          "output_type": "execute_result",
          "data": {
            "text/plain": [
              "True"
            ]
          },
          "metadata": {},
          "execution_count": 12
        }
      ]
    },
    {
      "cell_type": "code",
      "source": [
        "# identity operator\n",
        "# to check variable certain belong datatype\n",
        "# datatype => ckasses mai defined\n",
        "x=10\n",
        "type(x) is int"
      ],
      "metadata": {
        "colab": {
          "base_uri": "https://localhost:8080/"
        },
        "id": "DPlDrCr8vCTT",
        "outputId": "b56bc084-c167-46e3-d9b6-77cb979ce55a"
      },
      "execution_count": null,
      "outputs": [
        {
          "output_type": "execute_result",
          "data": {
            "text/plain": [
              "True"
            ]
          },
          "metadata": {},
          "execution_count": 13
        }
      ]
    },
    {
      "cell_type": "code",
      "source": [
        "x=10\n",
        "type(x) is float"
      ],
      "metadata": {
        "colab": {
          "base_uri": "https://localhost:8080/"
        },
        "id": "zefDIZ_BvxpP",
        "outputId": "eb0f7267-bf73-47f1-f598-3709c1e95e1c"
      },
      "execution_count": null,
      "outputs": [
        {
          "output_type": "execute_result",
          "data": {
            "text/plain": [
              "False"
            ]
          },
          "metadata": {},
          "execution_count": 14
        }
      ]
    },
    {
      "cell_type": "code",
      "source": [
        "x=10\n",
        "type(x) is not int"
      ],
      "metadata": {
        "colab": {
          "base_uri": "https://localhost:8080/"
        },
        "id": "826QEXOQv1h3",
        "outputId": "8a92990e-cebb-468b-e972-4255756e17f8"
      },
      "execution_count": null,
      "outputs": [
        {
          "output_type": "execute_result",
          "data": {
            "text/plain": [
              "False"
            ]
          },
          "metadata": {},
          "execution_count": 15
        }
      ]
    },
    {
      "cell_type": "code",
      "source": [
        "x=10\n",
        "type(x) is not float"
      ],
      "metadata": {
        "colab": {
          "base_uri": "https://localhost:8080/"
        },
        "id": "yY4B85O7v3yr",
        "outputId": "80237d5c-3b31-4d2a-eb2a-0f7642eadead"
      },
      "execution_count": null,
      "outputs": [
        {
          "output_type": "execute_result",
          "data": {
            "text/plain": [
              "True"
            ]
          },
          "metadata": {},
          "execution_count": 16
        }
      ]
    },
    {
      "cell_type": "code",
      "source": [
        "# conditional statement\n",
        "print(\"hello\")"
      ],
      "metadata": {
        "colab": {
          "base_uri": "https://localhost:8080/"
        },
        "id": "R55rK2mTv7BC",
        "outputId": "cd968591-46e5-4834-f552-f10f81ee3630"
      },
      "execution_count": null,
      "outputs": [
        {
          "output_type": "stream",
          "name": "stdout",
          "text": [
            "hello\n"
          ]
        }
      ]
    },
    {
      "cell_type": "code",
      "source": [
        "if(True):\n",
        "  print(\"hlo\")"
      ],
      "metadata": {
        "colab": {
          "base_uri": "https://localhost:8080/"
        },
        "id": "bCvHtOJrwhnP",
        "outputId": "fcc9d2df-cffb-4a42-95f0-74eaf8bf2c77"
      },
      "execution_count": null,
      "outputs": [
        {
          "output_type": "stream",
          "name": "stdout",
          "text": [
            "hlo\n"
          ]
        }
      ]
    },
    {
      "cell_type": "code",
      "source": [
        "if(False):\n",
        "  print(\"hlo\")"
      ],
      "metadata": {
        "id": "VcsSTGBlw_QM"
      },
      "execution_count": null,
      "outputs": []
    },
    {
      "cell_type": "code",
      "source": [
        "x=10\n",
        "y=2\n",
        "if(x>y):\n",
        "  x=10-7\n",
        "  y<x\n",
        "  print(\"yes\")\n",
        "else:\n",
        "  print(\"no\")\n"
      ],
      "metadata": {
        "colab": {
          "base_uri": "https://localhost:8080/"
        },
        "id": "EnH_ViiOxHhM",
        "outputId": "0fceeb3a-37d5-4227-d609-cac500bf3bf8"
      },
      "execution_count": null,
      "outputs": [
        {
          "output_type": "stream",
          "name": "stdout",
          "text": [
            "yes\n"
          ]
        }
      ]
    },
    {
      "cell_type": "code",
      "source": [
        "if(True):\n",
        "  print(\"hlo\")\n",
        "else:\n",
        "  print(\"condition is false\")"
      ],
      "metadata": {
        "colab": {
          "base_uri": "https://localhost:8080/"
        },
        "id": "P96igHdjx61-",
        "outputId": "473f7127-9a14-4ae0-ca9c-41bd9e0808e4"
      },
      "execution_count": null,
      "outputs": [
        {
          "output_type": "stream",
          "name": "stdout",
          "text": [
            "hlo\n"
          ]
        }
      ]
    },
    {
      "cell_type": "code",
      "source": [
        "if(False):\n",
        "  print(\"hlo\")\n",
        "else:\n",
        "  print(\"condition is false\")"
      ],
      "metadata": {
        "colab": {
          "base_uri": "https://localhost:8080/"
        },
        "id": "-d2LuUHQyhSh",
        "outputId": "fc8f0c9b-10dd-4f60-d232-821e27de04d5"
      },
      "execution_count": null,
      "outputs": [
        {
          "output_type": "stream",
          "name": "stdout",
          "text": [
            "condition is false\n"
          ]
        }
      ]
    },
    {
      "cell_type": "code",
      "source": [
        "age=18\n",
        "if(age>=18):\n",
        "  print(\"age is 18\")\n",
        "else:\n",
        "  print(\"condition is false\")"
      ],
      "metadata": {
        "colab": {
          "base_uri": "https://localhost:8080/"
        },
        "id": "Ip0zfHj6ymUH",
        "outputId": "5cc2ca67-caa9-4156-9a15-535680082724"
      },
      "execution_count": null,
      "outputs": [
        {
          "output_type": "stream",
          "name": "stdout",
          "text": [
            "age is 18\n"
          ]
        }
      ]
    },
    {
      "cell_type": "code",
      "source": [
        "# to find even number\n",
        "# %\n",
        "x=5\n",
        "if(x %2==0):\n",
        "  print(\"even\")\n",
        "else:\n",
        "  print(\"odd\")"
      ],
      "metadata": {
        "colab": {
          "base_uri": "https://localhost:8080/"
        },
        "id": "ocOabySIzN0e",
        "outputId": "8421d3a9-70c4-4718-aec3-1ead55b45bae"
      },
      "execution_count": null,
      "outputs": [
        {
          "output_type": "stream",
          "name": "stdout",
          "text": [
            "odd\n"
          ]
        }
      ]
    },
    {
      "cell_type": "code",
      "source": [
        "x=5\n",
        "if(x==1):\n",
        "  print(\"x is 1\")\n",
        "else:\n",
        "  print(\"condition is false\")"
      ],
      "metadata": {
        "colab": {
          "base_uri": "https://localhost:8080/"
        },
        "id": "qdZ8L44zzqWu",
        "outputId": "c518b6dc-b94f-4b99-d497-671ae5187787"
      },
      "execution_count": null,
      "outputs": [
        {
          "output_type": "stream",
          "name": "stdout",
          "text": [
            "condition is false\n"
          ]
        }
      ]
    },
    {
      "cell_type": "code",
      "source": [
        "x=3\n",
        "if(x==1):\n",
        "  print(\"x is 1\")\n",
        "elif(x==2):\n",
        "  print(\"x is 2\")\n",
        "else:\n",
        "  print(\"condition is false\")"
      ],
      "metadata": {
        "colab": {
          "base_uri": "https://localhost:8080/"
        },
        "id": "N2F5ue_v0T6R",
        "outputId": "3600e30f-77b3-4e68-d382-52f0be23d0c6"
      },
      "execution_count": null,
      "outputs": [
        {
          "output_type": "stream",
          "name": "stdout",
          "text": [
            "condition is false\n"
          ]
        }
      ]
    },
    {
      "cell_type": "code",
      "source": [
        "x=2\n",
        "if(x==1):\n",
        "  print(\"x is 1\")\n",
        "elif(x==2):\n",
        "  print(\"x is 2\")\n",
        "else:\n",
        "  print(\"condition is false\")"
      ],
      "metadata": {
        "colab": {
          "base_uri": "https://localhost:8080/"
        },
        "id": "KECg69bu0vG0",
        "outputId": "0bacbfcc-033d-43d5-a2ea-cce6dd15d0c7"
      },
      "execution_count": null,
      "outputs": [
        {
          "output_type": "stream",
          "name": "stdout",
          "text": [
            "x is 2\n"
          ]
        }
      ]
    },
    {
      "cell_type": "code",
      "source": [
        "x=1\n",
        "if(x==1 or x==2):\n",
        "  print(\"hey\")\n",
        "else:\n",
        "  print(\"condition is false\")"
      ],
      "metadata": {
        "colab": {
          "base_uri": "https://localhost:8080/"
        },
        "id": "z8mUu-OV04FE",
        "outputId": "b3cd1e90-8721-4078-fafa-729fcdb6d1e3"
      },
      "execution_count": null,
      "outputs": [
        {
          "output_type": "stream",
          "name": "stdout",
          "text": [
            "hey\n"
          ]
        }
      ]
    },
    {
      "cell_type": "code",
      "source": [
        "# take 3 variable minimum value print\n",
        "x=5\n",
        "y=6\n",
        "z=19\n",
        "if(x <= y and x <= z):\n",
        "  print(\"minmum value\",x)\n",
        "elif (y <= x and y <= z):\n",
        "    print(\"Minimum value\",y)\n",
        "else:\n",
        "  print(\"Minimum value\",z)"
      ],
      "metadata": {
        "colab": {
          "base_uri": "https://localhost:8080/"
        },
        "id": "F0z3DZNR1IW1",
        "outputId": "679e67e7-4d8f-4d87-b753-dbe7897ad5e9"
      },
      "execution_count": null,
      "outputs": [
        {
          "output_type": "stream",
          "name": "stdout",
          "text": [
            "minmum value 5\n"
          ]
        }
      ]
    },
    {
      "cell_type": "code",
      "source": [
        "# if take a number 2 or 5 print divison by 10 and divison by 2 print divison by 2 and number divison by 5 print divison by 5\n",
        "x=2\n",
        "y=5\n",
        "if(x and y / 10):\n",
        "  print(\"divison by 10\")\n",
        "elif(x and y / 2):\n",
        "    print(\"divison by 2\")\n",
        "else:\n",
        "    print(\"divison by 5\")"
      ],
      "metadata": {
        "colab": {
          "base_uri": "https://localhost:8080/"
        },
        "id": "sqqeiG2g2Dl2",
        "outputId": "77006599-2fdf-4072-dd78-13fd27ce366a"
      },
      "execution_count": null,
      "outputs": [
        {
          "output_type": "stream",
          "name": "stdout",
          "text": [
            "divison by 10\n"
          ]
        }
      ]
    },
    {
      "cell_type": "code",
      "source": [
        "x = 4\n",
        "y = 5\n",
        "\n",
        "if (x % 10 == 0 or y % 10 == 0):\n",
        "    print(\"Division by 10\")\n",
        "elif (x % 2 == 0 or y % 2 == 0):\n",
        "    print(\"Division by 2\")\n",
        "elif (x % 5 == 0 or y % 5 == 0):\n",
        "    print(\"Division by 5\")\n",
        "else:\n",
        "    print(\"not division anyone\")\n",
        "\n",
        "\n"
      ],
      "metadata": {
        "colab": {
          "base_uri": "https://localhost:8080/"
        },
        "id": "mOb76lRW41He",
        "outputId": "a680297f-d982-4996-fb71-e80376e95bbc"
      },
      "execution_count": null,
      "outputs": [
        {
          "output_type": "stream",
          "name": "stdout",
          "text": [
            "Division by 2\n"
          ]
        }
      ]
    },
    {
      "cell_type": "code",
      "source": [
        "age = 20\n",
        "\n",
        "if age == 10:\n",
        "    print(\"Child\")\n",
        "elif age > 10 and age < 30:\n",
        "    print(\"Young\")\n",
        "elif age == 30:\n",
        "    print(\"adult\")\n",
        "elif age > 30:\n",
        "    print(\"Senior Citizen\")\n",
        "else:\n",
        "    print(\"Invalid\")\n"
      ],
      "metadata": {
        "colab": {
          "base_uri": "https://localhost:8080/"
        },
        "id": "wlCTOmf65BgW",
        "outputId": "154bf92f-4de2-4283-99d7-437f2b0eaf89"
      },
      "execution_count": null,
      "outputs": [
        {
          "output_type": "stream",
          "name": "stdout",
          "text": [
            "Young\n"
          ]
        }
      ]
    }
  ]
}
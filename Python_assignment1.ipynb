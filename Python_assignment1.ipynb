{
  "nbformat": 4,
  "nbformat_minor": 0,
  "metadata": {
    "colab": {
      "provenance": []
    },
    "kernelspec": {
      "name": "python3",
      "display_name": "Python 3"
    },
    "language_info": {
      "name": "python"
    }
  },
  "cells": [
    {
      "cell_type": "code",
      "execution_count": 2,
      "metadata": {
        "colab": {
          "base_uri": "https://localhost:8080/"
        },
        "id": "eil5hYQbTGlr",
        "outputId": "eb697f47-dd29-4a9c-df8b-a1886e04a3cd"
      },
      "outputs": [
        {
          "output_type": "stream",
          "name": "stdout",
          "text": [
            "enter a number:5\n",
            "the number is odd\n"
          ]
        }
      ],
      "source": [
        "# Q1 Write a program that takes an integer input from the user and checks whether the number is odd or even.\n",
        "x=int(input(\"enter a number:\"))\n",
        "if(x%2==0):\n",
        "    print(\"the number is even\")\n",
        "else:\n",
        "    print(\"the number is odd\")"
      ]
    },
    {
      "cell_type": "code",
      "source": [
        "# Q2 Write a program that takes three numbers as input and prints the largest of the three.\n",
        "x=int(input(\"enter a number:\"))\n",
        "y=int(input(\"enter a number:\"))\n",
        "z=int(input(\"enter a number:\"))\n",
        "if(x>y and x>z):\n",
        "    print(\"x largest number\")\n",
        "elif(y>x and y>z):\n",
        "    print(\"y largest number\")\n",
        "else:\n",
        "    print(\"z largest number\")"
      ],
      "metadata": {
        "colab": {
          "base_uri": "https://localhost:8080/"
        },
        "id": "7-shBBsTVSpL",
        "outputId": "0b3e0305-081f-4644-b675-7aa436ecb7a0"
      },
      "execution_count": 4,
      "outputs": [
        {
          "output_type": "stream",
          "name": "stdout",
          "text": [
            "enter a number:3\n",
            "enter a number:4\n",
            "enter a number:5\n",
            "z largest number is\n"
          ]
        }
      ]
    },
    {
      "cell_type": "code",
      "source": [
        "# Q3 Write a program to check if a given year is a leap year. A leap year is divisible by 4 but not by 100 unless it is also divisible by 400.\n",
        "year = int(input(\"Enter a year: \"))\n",
        "if (year % 4 == 0 and year % 100 != 0) or (year % 400 == 0):\n",
        "    print(year, \"is a leap year\")\n",
        "else:\n",
        "    print(year, \"is not a leap year\")"
      ],
      "metadata": {
        "colab": {
          "base_uri": "https://localhost:8080/"
        },
        "id": "FKKY5JqmejFY",
        "outputId": "c23b454f-80ec-4b70-b711-9e1fcfed4eef"
      },
      "execution_count": 6,
      "outputs": [
        {
          "output_type": "stream",
          "name": "stdout",
          "text": [
            "Enter a year: 2025\n",
            "2025 is not a leap year\n"
          ]
        }
      ]
    },
    {
      "cell_type": "code",
      "source": [
        "'''\n",
        "Q4 Write a program that takes a percentage (integer) as input and prints the corresponding grade based\n",
        "on the following criteria:\n",
        ">= 90: Grade A\n",
        ">= 80: Grade B\n",
        ">= 70: Grade C\n",
        ">= 60: Grade D\n",
        "< 60: Grade F\n",
        "'''\n",
        "x=int(input(\"enter a percentage:\"))\n",
        "if(x>=90):\n",
        "  print(\"grade A\")\n",
        "elif(x>=80):\n",
        "  print(\"grade B\")\n",
        "elif(x>=70):\n",
        "  print(\"grade C\")\n",
        "elif(x>=60):\n",
        "    print(\"grade D\")\n",
        "else:\n",
        "    print(\"grade F\")"
      ],
      "metadata": {
        "colab": {
          "base_uri": "https://localhost:8080/"
        },
        "id": "XYSMYTh5fNsb",
        "outputId": "723d4379-41f3-4dbc-cc47-4a4987503368"
      },
      "execution_count": 8,
      "outputs": [
        {
          "output_type": "stream",
          "name": "stdout",
          "text": [
            "enter a percentage:20\n",
            "grade F\n"
          ]
        }
      ]
    },
    {
      "cell_type": "code",
      "source": [
        "# Q5 Write a program that checks if a given letter is a vowel (a, e, i, o, u) or a consonant.\n",
        "x=input(\"enter a letter:\")\n",
        "if(x==\"a\" or x==\"e\" or x==\"i\" or x==\"o\" or x==\"u\"):\n",
        "    print(\"the letter is vowel\")\n",
        "else:\n",
        "    print(\"the letter is consonant\")"
      ],
      "metadata": {
        "colab": {
          "base_uri": "https://localhost:8080/"
        },
        "id": "RSh_aM6QjzTc",
        "outputId": "f8ff495e-8b47-4912-c5f5-b7d6d0ce7cd0"
      },
      "execution_count": 9,
      "outputs": [
        {
          "output_type": "stream",
          "name": "stdout",
          "text": [
            "enter a letter:j\n",
            "the letter is consonant\n"
          ]
        }
      ]
    },
    {
      "cell_type": "code",
      "source": [
        "# Q6 Write a basic calculator program that takes two numbers and an operator (+, -, *, /) as input and performs the specified operation. Print the result based on the operation.\n",
        "x=int(input(\"enter a number:\"))\n",
        "y=int(input(\"enter a number:\"))\n",
        "z=input(\"enter a operator:\")\n",
        "if(z==\"+\"):\n",
        "    print(x+y)\n",
        "elif(z==\"-\"):\n",
        "    print(x-y)\n",
        "elif(z==\"*\"):\n",
        "    print(x*y)\n",
        "elif(z==\"/\"):\n",
        "    print(x/y)\n",
        "else:\n",
        "    print(\"invalid\")\n"
      ],
      "metadata": {
        "colab": {
          "base_uri": "https://localhost:8080/"
        },
        "id": "6NVlVzIkm2_z",
        "outputId": "86bc969c-12eb-4dad-b56e-a77e0c1ab6e3"
      },
      "execution_count": 12,
      "outputs": [
        {
          "output_type": "stream",
          "name": "stdout",
          "text": [
            "enter a number:09\n",
            "enter a number:10\n",
            "enter a operator:%\n",
            "invalid\n"
          ]
        }
      ]
    }
  ]
}